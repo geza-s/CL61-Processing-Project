{
 "cells": [
  {
   "cell_type": "code",
   "execution_count": 2,
   "outputs": [],
   "source": [
    "# system management\n",
    "import glob\n",
    "import os\n",
    "import importlib\n",
    "\n",
    "# Array\n",
    "import xarray as xr\n",
    "import numpy as np\n",
    "import pandas as pd"
   ],
   "metadata": {
    "collapsed": false
   }
  },
  {
   "cell_type": "code",
   "execution_count": 3,
   "outputs": [],
   "source": [
    "folder_path = r'D:\\gezas\\switchdrive\\Private\\CL61\\Data'\n",
    "filepaths = glob.glob(os.path.join(folder_path, '*.nc'))\n",
    "timestamps = [pd.to_datetime(path[-18:-3], format='%Y%m%d_%H%M%S') for path in filepaths]\n",
    "\n",
    "df_data_files = pd.DataFrame({'file_name_path': filepaths}, index=timestamps)\n",
    "df_data_files.sort_index(inplace=True)"
   ],
   "metadata": {
    "collapsed": false
   }
  },
  {
   "cell_type": "code",
   "execution_count": 4,
   "outputs": [
    {
     "data": {
      "text/plain": "                                                        file_name_path\n2023-02-03 00:02:10  D:\\gezas\\switchdrive\\Private\\CL61\\Data\\live_20...\n2023-02-03 00:07:10  D:\\gezas\\switchdrive\\Private\\CL61\\Data\\live_20...\n2023-02-03 00:12:10  D:\\gezas\\switchdrive\\Private\\CL61\\Data\\live_20...\n2023-02-03 00:17:10  D:\\gezas\\switchdrive\\Private\\CL61\\Data\\live_20...\n2023-02-03 00:22:10  D:\\gezas\\switchdrive\\Private\\CL61\\Data\\live_20...\n...                                                                ...\n2023-04-08 23:38:00  D:\\gezas\\switchdrive\\Private\\CL61\\Data\\live_20...\n2023-04-08 23:43:00  D:\\gezas\\switchdrive\\Private\\CL61\\Data\\live_20...\n2023-04-08 23:48:00  D:\\gezas\\switchdrive\\Private\\CL61\\Data\\live_20...\n2023-04-08 23:53:00  D:\\gezas\\switchdrive\\Private\\CL61\\Data\\live_20...\n2023-04-08 23:58:00  D:\\gezas\\switchdrive\\Private\\CL61\\Data\\live_20...\n\n[3601 rows x 1 columns]",
      "text/html": "<div>\n<style scoped>\n    .dataframe tbody tr th:only-of-type {\n        vertical-align: middle;\n    }\n\n    .dataframe tbody tr th {\n        vertical-align: top;\n    }\n\n    .dataframe thead th {\n        text-align: right;\n    }\n</style>\n<table border=\"1\" class=\"dataframe\">\n  <thead>\n    <tr style=\"text-align: right;\">\n      <th></th>\n      <th>file_name_path</th>\n    </tr>\n  </thead>\n  <tbody>\n    <tr>\n      <th>2023-02-03 00:02:10</th>\n      <td>D:\\gezas\\switchdrive\\Private\\CL61\\Data\\live_20...</td>\n    </tr>\n    <tr>\n      <th>2023-02-03 00:07:10</th>\n      <td>D:\\gezas\\switchdrive\\Private\\CL61\\Data\\live_20...</td>\n    </tr>\n    <tr>\n      <th>2023-02-03 00:12:10</th>\n      <td>D:\\gezas\\switchdrive\\Private\\CL61\\Data\\live_20...</td>\n    </tr>\n    <tr>\n      <th>2023-02-03 00:17:10</th>\n      <td>D:\\gezas\\switchdrive\\Private\\CL61\\Data\\live_20...</td>\n    </tr>\n    <tr>\n      <th>2023-02-03 00:22:10</th>\n      <td>D:\\gezas\\switchdrive\\Private\\CL61\\Data\\live_20...</td>\n    </tr>\n    <tr>\n      <th>...</th>\n      <td>...</td>\n    </tr>\n    <tr>\n      <th>2023-04-08 23:38:00</th>\n      <td>D:\\gezas\\switchdrive\\Private\\CL61\\Data\\live_20...</td>\n    </tr>\n    <tr>\n      <th>2023-04-08 23:43:00</th>\n      <td>D:\\gezas\\switchdrive\\Private\\CL61\\Data\\live_20...</td>\n    </tr>\n    <tr>\n      <th>2023-04-08 23:48:00</th>\n      <td>D:\\gezas\\switchdrive\\Private\\CL61\\Data\\live_20...</td>\n    </tr>\n    <tr>\n      <th>2023-04-08 23:53:00</th>\n      <td>D:\\gezas\\switchdrive\\Private\\CL61\\Data\\live_20...</td>\n    </tr>\n    <tr>\n      <th>2023-04-08 23:58:00</th>\n      <td>D:\\gezas\\switchdrive\\Private\\CL61\\Data\\live_20...</td>\n    </tr>\n  </tbody>\n</table>\n<p>3601 rows × 1 columns</p>\n</div>"
     },
     "execution_count": 4,
     "metadata": {},
     "output_type": "execute_result"
    }
   ],
   "source": [
    "df_data_files"
   ],
   "metadata": {
    "collapsed": false
   }
  },
  {
   "cell_type": "code",
   "execution_count": 6,
   "outputs": [
    {
     "data": {
      "text/plain": "DatetimeIndex(['2023-02-03 00:02:10', '2023-02-03 00:07:10',\n               '2023-02-03 00:12:10', '2023-02-03 00:17:10',\n               '2023-02-03 00:22:10', '2023-02-03 00:27:10',\n               '2023-02-03 00:32:10', '2023-02-03 00:37:10',\n               '2023-02-03 00:42:10', '2023-02-03 00:47:10',\n               ...\n               '2023-04-08 23:13:00', '2023-04-08 23:18:00',\n               '2023-04-08 23:23:00', '2023-04-08 23:28:00',\n               '2023-04-08 23:33:00', '2023-04-08 23:38:00',\n               '2023-04-08 23:43:00', '2023-04-08 23:48:00',\n               '2023-04-08 23:53:00', '2023-04-08 23:58:00'],\n              dtype='datetime64[ns]', length=3601, freq=None)"
     },
     "execution_count": 6,
     "metadata": {},
     "output_type": "execute_result"
    }
   ],
   "source": [
    "df_data_files.index"
   ],
   "metadata": {
    "collapsed": false
   }
  },
  {
   "cell_type": "code",
   "execution_count": 24,
   "outputs": [],
   "source": [
    "first_date = df_data_files.index[0].date()\n",
    "last_date = df_data_files.index[-1].date()"
   ],
   "metadata": {
    "collapsed": false
   }
  },
  {
   "cell_type": "code",
   "execution_count": 36,
   "outputs": [],
   "source": [
    "all_dates = pd.date_range(first_date, last_date, freq='D')"
   ],
   "metadata": {
    "collapsed": false
   }
  },
  {
   "cell_type": "code",
   "execution_count": 42,
   "outputs": [
    {
     "name": "stdout",
     "output_type": "stream",
     "text": [
      "selected date: 2023-02-03 00:00:00\n"
     ]
    }
   ],
   "source": [
    "selected_date = all_dates[0]\n",
    "selected_data = df_data_files.loc[selected_date.strftime('%Y-%m-%d')]\n",
    "print(f'selected date: {selected_date}')\n",
    "date_array = xr.open_mfdataset(selected_data['file_name_path'], chunks={'time': 300})\n",
    "print(f\"writing to : cl61_{selected_date.strftime('%Y%m%d')}\")\n",
    "date_array.to_netcdf(f\"..\\Data_daily\\cl61_{selected_date.strftime('%Y%m%d')}\")\n",
    "print('done')"
   ],
   "metadata": {
    "collapsed": false
   }
  },
  {
   "cell_type": "code",
   "execution_count": 43,
   "outputs": [],
   "source": [
    "from tqdm import tqdm"
   ],
   "metadata": {
    "collapsed": false
   }
  },
  {
   "cell_type": "code",
   "execution_count": 48,
   "outputs": [
    {
     "name": "stderr",
     "output_type": "stream",
     "text": [
      "  0%|          | 0/30 [00:00<?, ?it/s]"
     ]
    },
    {
     "name": "stdout",
     "output_type": "stream",
     "text": [
      "selected date: 2023-02-23 00:00:00\n",
      "selected date: 2023-02-24 00:00:00\n",
      "selected date: 2023-02-25 00:00:00\n",
      "selected date: 2023-02-26 00:00:00\n",
      "selected date: 2023-02-27 00:00:00\n",
      "selected date: 2023-02-28 00:00:00\n",
      "selected date: 2023-03-01 00:00:00\n",
      "selected date: 2023-03-02 00:00:00\n",
      "selected date: 2023-03-03 00:00:00\n",
      "selected date: 2023-03-04 00:00:00\n",
      "selected date: 2023-03-05 00:00:00\n",
      "selected date: 2023-03-06 00:00:00\n",
      "selected date: 2023-03-07 00:00:00\n",
      "selected date: 2023-03-08 00:00:00\n",
      "selected date: 2023-03-09 00:00:00\n",
      "selected date: 2023-03-10 00:00:00\n",
      "selected date: 2023-03-11 00:00:00\n",
      "selected date: 2023-03-12 00:00:00\n",
      "selected date: 2023-03-13 00:00:00\n",
      "selected date: 2023-03-14 00:00:00\n",
      "selected date: 2023-03-15 00:00:00\n",
      "selected date: 2023-03-16 00:00:00\n",
      "writing to : cl61_20230316\n"
     ]
    },
    {
     "name": "stderr",
     "output_type": "stream",
     "text": [
      " 73%|███████▎  | 22/30 [01:15<00:27,  3.41s/it]"
     ]
    },
    {
     "name": "stdout",
     "output_type": "stream",
     "text": [
      "done\n",
      "selected date: 2023-03-17 00:00:00\n",
      "writing to : cl61_20230317\n"
     ]
    },
    {
     "name": "stderr",
     "output_type": "stream",
     "text": [
      " 77%|███████▋  | 23/30 [02:42<00:59,  8.55s/it]"
     ]
    },
    {
     "name": "stdout",
     "output_type": "stream",
     "text": [
      "done\n",
      "selected date: 2023-03-18 00:00:00\n",
      "writing to : cl61_20230318\n"
     ]
    },
    {
     "name": "stderr",
     "output_type": "stream",
     "text": [
      " 80%|████████  | 24/30 [04:13<01:30, 15.13s/it]"
     ]
    },
    {
     "name": "stdout",
     "output_type": "stream",
     "text": [
      "done\n",
      "selected date: 2023-03-19 00:00:00\n",
      "writing to : cl61_20230319\n"
     ]
    },
    {
     "name": "stderr",
     "output_type": "stream",
     "text": [
      "100%|██████████| 30/30 [04:46<00:00,  9.56s/it]"
     ]
    },
    {
     "name": "stdout",
     "output_type": "stream",
     "text": [
      "done\n",
      "selected date: 2023-03-20 00:00:00\n",
      "selected date: 2023-03-21 00:00:00\n",
      "selected date: 2023-03-22 00:00:00\n",
      "selected date: 2023-03-23 00:00:00\n",
      "selected date: 2023-03-24 00:00:00\n"
     ]
    },
    {
     "name": "stderr",
     "output_type": "stream",
     "text": [
      "\n"
     ]
    }
   ],
   "source": [
    "for selected_date in tqdm(all_dates[20:50]):\n",
    "    selected_rows = df_data_files.loc[selected_date.strftime('%Y%m%d')]\n",
    "    print(f'selected date: {selected_date}')\n",
    "    if len(selected_rows)==0:\n",
    "        continue\n",
    "    date_array = xr.open_mfdataset(selected_rows['file_name_path'], chunks={'time': 300})\n",
    "    print(f\"writing to : cl61_{selected_date.strftime('%Y%m%d')}\")\n",
    "    date_array.to_netcdf(f\"..\\Data_daily\\cl61_{selected_date.strftime('%Y%m%d')}\")\n",
    "    print('done')"
   ],
   "metadata": {
    "collapsed": false
   }
  },
  {
   "cell_type": "code",
   "execution_count": null,
   "outputs": [],
   "source": [],
   "metadata": {
    "collapsed": false
   }
  }
 ],
 "metadata": {
  "kernelspec": {
   "display_name": "Python 3",
   "language": "python",
   "name": "python3"
  },
  "language_info": {
   "codemirror_mode": {
    "name": "ipython",
    "version": 2
   },
   "file_extension": ".py",
   "mimetype": "text/x-python",
   "name": "python",
   "nbconvert_exporter": "python",
   "pygments_lexer": "ipython2",
   "version": "2.7.6"
  }
 },
 "nbformat": 4,
 "nbformat_minor": 0
}
