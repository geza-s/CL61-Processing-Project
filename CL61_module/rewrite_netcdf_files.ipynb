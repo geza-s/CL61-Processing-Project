{
 "cells": [
  {
   "cell_type": "code",
   "execution_count": null,
   "metadata": {
    "collapsed": false
   },
   "outputs": [],
   "source": [
    "# system management\n",
    "import glob\n",
    "import os\n",
    "import importlib\n",
    "\n",
    "# Array\n",
    "import xarray as xr\n",
    "import dask\n",
    "import numpy as np\n",
    "import pandas as pd\n",
    "\n",
    "# See time evolution\n",
    "from tqdm import tqdm"
   ]
  },
  {
   "cell_type": "markdown",
   "metadata": {},
   "source": [
    "# Define daily "
   ]
  },
  {
   "cell_type": "code",
   "execution_count": null,
   "metadata": {
    "collapsed": false
   },
   "outputs": [],
   "source": [
    "data_folder = r\"Y:\\archive\\GreenFjord\\2023\\DATA_RAW\\CL61\"\n",
    "output_folder = r'C:\\Users\\gezas\\kDrive\\SIE-Project\\CL61\\Data_daily'"
   ]
  },
  {
   "cell_type": "code",
   "execution_count": null,
   "metadata": {},
   "outputs": [],
   "source": [
    "filepaths = glob.glob(os.path.join(data_folder, '*.nc'))\n",
    "timestamps = [pd.to_datetime(path[-18:-3], format='%Y%m%d_%H%M%S') for path in filepaths]\n",
    "\n",
    "df_data_files = pd.DataFrame({'file_name_path': filepaths}, index=timestamps)\n",
    "df_data_files.sort_index(inplace=True)"
   ]
  },
  {
   "cell_type": "code",
   "execution_count": null,
   "metadata": {
    "collapsed": false
   },
   "outputs": [],
   "source": [
    "df_data_files"
   ]
  },
  {
   "cell_type": "code",
   "execution_count": null,
   "metadata": {
    "collapsed": false
   },
   "outputs": [],
   "source": [
    "first_date = \"2023-06-27 00:00:00\"\n",
    "last_date = \"2023-06-29 23:59:00\""
   ]
  },
  {
   "cell_type": "code",
   "execution_count": null,
   "metadata": {
    "collapsed": false
   },
   "outputs": [],
   "source": [
    "selected_dates = pd.date_range(first_date, last_date, freq='D')\n",
    "selected_dates"
   ]
  },
  {
   "cell_type": "code",
   "execution_count": null,
   "metadata": {},
   "outputs": [],
   "source": [
    "combined_dataset = None\n",
    "\n",
    "for selected_date in selected_dates:\n",
    "    selected_rows = df_data_files.loc[selected_date.strftime('%Y%m%d')]\n",
    "    for row in tqdm(selected_rows.iterrows(), total=selected_rows.shape[0]):\n",
    "        # Open the dataset for the selected date\n",
    "        row_array = xr.open_dataset(row[1]['file_name_path'], chunks='auto')\n",
    "        # Combine the datasets\n",
    "        if combined_dataset is None:\n",
    "            combined_dataset = row_array\n",
    "        else:\n",
    "            combined_dataset = xr.concat([combined_dataset, row_array], dim='time')"
   ]
  },
  {
   "cell_type": "code",
   "execution_count": null,
   "metadata": {},
   "outputs": [],
   "source": [
    "start_time = \"2023-06-28 00:00:00\"\n",
    "end_time = \"2023-06-29 00:00:00\"\n",
    "subset = combined_dataset.sel(time=slice(start_time, end_time))\n",
    "subset"
   ]
  },
  {
   "cell_type": "code",
   "execution_count": null,
   "metadata": {},
   "outputs": [],
   "source": [
    "# Define the output filename\n",
    "output_filename = f\"cl61_{selected_dates[1].strftime('%Y%m%d')}.nc\"\n",
    "\n",
    "# Define the output file path\n",
    "output_filepath = os.path.join(output_folder, output_filename)\n",
    "\n",
    "# Save the combined dataset to a single NetCDF file\n",
    "subset.to_netcdf(output_filepath, engine='netcdf4')"
   ]
  },
  {
   "cell_type": "code",
   "execution_count": null,
   "metadata": {},
   "outputs": [],
   "source": [
    "date_array = xr.open_mfdataset(selected_rows['file_name_path'], chunks={'time':100}, parallel=True)"
   ]
  },
  {
   "cell_type": "code",
   "execution_count": null,
   "metadata": {},
   "outputs": [],
   "source": [
    "# Define the output filename\n",
    "output_filename = f\"cl61_{selected_date.strftime('%Y%m%d')}-test.nc\"\n",
    "\n",
    "# Define the output file path\n",
    "output_filepath = os.path.join(output_folder, output_filename)\n",
    "\n",
    "# Save the combined dataset to a single NetCDF file\n",
    "combined_dataset.to_netcdf(output_filepath)\n",
    "\n",
    "print(f\"Writing to: {output_filepath}\")"
   ]
  },
  {
   "cell_type": "code",
   "execution_count": null,
   "metadata": {
    "collapsed": false
   },
   "outputs": [],
   "source": [
    "for selected_date in tqdm(selected_dates):\n",
    "    selected_rows = df_data_files.loc[selected_date.strftime('%Y%m%d')]\n",
    "    print(f'selected date: {selected_date}')\n",
    "    if len(selected_rows)==0:\n",
    "        continue\n",
    "    date_array = xr.open_mfdataset(selected_rows['file_name_path'], chunks='auto')\n",
    "    output_filename = f\"cl61_{selected_date.strftime('%Y%m%d')}\"\n",
    "    output_filepath = os.join(output_folder, output_filename)\n",
    "    print(f\"writing to : {output_filepath}\")\n",
    "    date_array.to_netcdf(output_filepath)\n",
    "    print('done')"
   ]
  },
  {
   "cell_type": "code",
   "execution_count": null,
   "metadata": {
    "collapsed": false
   },
   "outputs": [],
   "source": []
  }
 ],
 "metadata": {
  "kernelspec": {
   "display_name": "Python 3",
   "language": "python",
   "name": "python3"
  },
  "language_info": {
   "codemirror_mode": {
    "name": "ipython",
    "version": 3
   },
   "file_extension": ".py",
   "mimetype": "text/x-python",
   "name": "python",
   "nbconvert_exporter": "python",
   "pygments_lexer": "ipython3",
   "version": "3.11.5"
  }
 },
 "nbformat": 4,
 "nbformat_minor": 0
}
