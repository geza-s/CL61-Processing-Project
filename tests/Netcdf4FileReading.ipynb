{
 "cells": [
  {
   "cell_type": "code",
   "execution_count": 1,
   "metadata": {},
   "outputs": [],
   "source": [
    "import netCDF4 as nc\n",
    "from pathlib import Path\n",
    "import glob\n",
    "\n",
    "#Array \n",
    "import xarray as xr\n",
    "import numpy as np\n",
    "import datetime as dt\n",
    "import pandas as pd\n",
    "import dask\n",
    "\n",
    "#Visualize\n",
    "from matplotlib import pyplot as plt\n",
    "import matplotlib.dates as mdates\n",
    "import matplotlib.colors as colors\n",
    "import cmcrameri.cm as cmc # batlow colourmap\n",
    "\n",
    "from scipy import signal\n",
    "from scipy.interpolate import BSpline\n",
    "\n",
    "#import tqdm\n",
    "import seaborn as sns\n",
    "\n",
    "#to reload\n",
    "import importlib"
   ]
  },
  {
   "cell_type": "code",
   "execution_count": 2,
   "metadata": {},
   "outputs": [],
   "source": [
    "COLOR_MAP = 'cmc.batlow'\n",
    "plt.style.use('bmh')"
   ]
  },
  {
   "cell_type": "markdown",
   "metadata": {},
   "source": [
    "# Initialize"
   ]
  },
  {
   "cell_type": "code",
   "execution_count": 3,
   "metadata": {},
   "outputs": [
    {
     "data": {
      "text/html": [
       "<div>\n",
       "<style scoped>\n",
       "    .dataframe tbody tr th:only-of-type {\n",
       "        vertical-align: middle;\n",
       "    }\n",
       "\n",
       "    .dataframe tbody tr th {\n",
       "        vertical-align: top;\n",
       "    }\n",
       "\n",
       "    .dataframe thead th {\n",
       "        text-align: right;\n",
       "    }\n",
       "</style>\n",
       "<table border=\"1\" class=\"dataframe\">\n",
       "  <thead>\n",
       "    <tr style=\"text-align: right;\">\n",
       "      <th></th>\n",
       "      <th>file_name_path</th>\n",
       "      <th>Datetime</th>\n",
       "    </tr>\n",
       "  </thead>\n",
       "  <tbody>\n",
       "  </tbody>\n",
       "</table>\n",
       "</div>"
      ],
      "text/plain": [
       "Empty DataFrame\n",
       "Columns: [file_name_path, Datetime]\n",
       "Index: []"
      ]
     },
     "execution_count": 3,
     "metadata": {},
     "output_type": "execute_result"
    }
   ],
   "source": [
    "# Get data folder\n",
    "#ceil_path = str(Path(r'C:\\Users\\gezas\\Documents\\CL61\\Data'))\n",
    "ceil_path = str(Path(r'D:\\gezas\\switchdrive\\Private\\CL61_data'))\n",
    "\n",
    "all_data_files = glob.glob(ceil_path + '/*.nc')\n",
    "\n",
    "# Set datetime as index\n",
    "get_file_datetime = list(map(lambda date_str: pd.to_datetime(date_str, format='%Y%m%d_%H%M%S'),\n",
    "                             [path_name[-18:-3] for path_name in all_data_files]))\n",
    "\n",
    "df_data_files = pd.DataFrame([all_data_files, get_file_datetime], index=['file_name_path', 'Datetime']).T\n",
    "df_data_files.index = get_file_datetime\n",
    "df_data_files = df_data_files.sort_index()\n",
    "df_data_files.head()"
   ]
  },
  {
   "cell_type": "markdown",
   "metadata": {},
   "source": [
    "# Open dataset"
   ]
  },
  {
   "cell_type": "code",
   "execution_count": 9,
   "metadata": {},
   "outputs": [
    {
     "data": {
      "text/html": [
       "<div>\n",
       "<style scoped>\n",
       "    .dataframe tbody tr th:only-of-type {\n",
       "        vertical-align: middle;\n",
       "    }\n",
       "\n",
       "    .dataframe tbody tr th {\n",
       "        vertical-align: top;\n",
       "    }\n",
       "\n",
       "    .dataframe thead th {\n",
       "        text-align: right;\n",
       "    }\n",
       "</style>\n",
       "<table border=\"1\" class=\"dataframe\">\n",
       "  <thead>\n",
       "    <tr style=\"text-align: right;\">\n",
       "      <th></th>\n",
       "      <th>file_name_path</th>\n",
       "      <th>Datetime</th>\n",
       "    </tr>\n",
       "  </thead>\n",
       "  <tbody>\n",
       "    <tr>\n",
       "      <th>2023-06-30 23:36:26</th>\n",
       "      <td>D:\\gezas\\switchdrive\\Private\\CL61_data\\live_20...</td>\n",
       "      <td>2023-06-30 23:36:26</td>\n",
       "    </tr>\n",
       "    <tr>\n",
       "      <th>2023-06-30 23:41:25</th>\n",
       "      <td>D:\\gezas\\switchdrive\\Private\\CL61_data\\live_20...</td>\n",
       "      <td>2023-06-30 23:41:25</td>\n",
       "    </tr>\n",
       "    <tr>\n",
       "      <th>2023-06-30 23:46:25</th>\n",
       "      <td>D:\\gezas\\switchdrive\\Private\\CL61_data\\live_20...</td>\n",
       "      <td>2023-06-30 23:46:25</td>\n",
       "    </tr>\n",
       "    <tr>\n",
       "      <th>2023-06-30 23:51:25</th>\n",
       "      <td>D:\\gezas\\switchdrive\\Private\\CL61_data\\live_20...</td>\n",
       "      <td>2023-06-30 23:51:25</td>\n",
       "    </tr>\n",
       "    <tr>\n",
       "      <th>2023-06-30 23:56:25</th>\n",
       "      <td>D:\\gezas\\switchdrive\\Private\\CL61_data\\live_20...</td>\n",
       "      <td>2023-06-30 23:56:25</td>\n",
       "    </tr>\n",
       "  </tbody>\n",
       "</table>\n",
       "</div>"
      ],
      "text/plain": [
       "                                                        file_name_path  \\\n",
       "2023-06-30 23:36:26  D:\\gezas\\switchdrive\\Private\\CL61_data\\live_20...   \n",
       "2023-06-30 23:41:25  D:\\gezas\\switchdrive\\Private\\CL61_data\\live_20...   \n",
       "2023-06-30 23:46:25  D:\\gezas\\switchdrive\\Private\\CL61_data\\live_20...   \n",
       "2023-06-30 23:51:25  D:\\gezas\\switchdrive\\Private\\CL61_data\\live_20...   \n",
       "2023-06-30 23:56:25  D:\\gezas\\switchdrive\\Private\\CL61_data\\live_20...   \n",
       "\n",
       "                               Datetime  \n",
       "2023-06-30 23:36:26 2023-06-30 23:36:26  \n",
       "2023-06-30 23:41:25 2023-06-30 23:41:25  \n",
       "2023-06-30 23:46:25 2023-06-30 23:46:25  \n",
       "2023-06-30 23:51:25 2023-06-30 23:51:25  \n",
       "2023-06-30 23:56:25 2023-06-30 23:56:25  "
      ]
     },
     "execution_count": 9,
     "metadata": {},
     "output_type": "execute_result"
    }
   ],
   "source": [
    "df_data_files.tail()"
   ]
  },
  {
   "cell_type": "code",
   "execution_count": 10,
   "metadata": {},
   "outputs": [],
   "source": [
    "# %%timeit -r 1 -n 1\n",
    "\n",
    "# specify the period for analysis\n",
    "start_data = '2023-02-04 00:00:00'\n",
    "end_data = '2023-02-05 00:00:00'\n",
    "\n",
    "start_data = '2023-06-28 00:00:00'\n",
    "end_data = '2023-06-29 00:00:00'\n",
    "\n",
    "selected_data = df_data_files[df_data_files['Datetime'].between(start_data, end_data)].copy()"
   ]
  },
  {
   "cell_type": "code",
   "execution_count": 11,
   "metadata": {},
   "outputs": [],
   "source": [
    "# Open dataset\n",
    "dataset = xr.open_mfdataset(selected_data['file_name_path'], chunks = {'time':300})"
   ]
  },
  {
   "cell_type": "code",
   "execution_count": 15,
   "metadata": {},
   "outputs": [],
   "source": [
    "dataset = xr.open_mfdataset(selected_data['file_name_path'], chunks = {'time':100})"
   ]
  },
  {
   "cell_type": "code",
   "execution_count": 16,
   "metadata": {},
   "outputs": [],
   "source": [
    "dataset.to_netcdf(\"temp_1d_test.nc\")"
   ]
  },
  {
   "cell_type": "code",
   "execution_count": 17,
   "metadata": {},
   "outputs": [],
   "source": [
    "dataset_1d = xr.open_dataset(\"temp_1d_test.nc\")"
   ]
  },
  {
   "cell_type": "code",
   "execution_count": 13,
   "metadata": {},
   "outputs": [],
   "source": [
    "dataset = xr.open_mfdataset(selected_data['file_name_path'], parallel=True)"
   ]
  },
  {
   "cell_type": "code",
   "execution_count": 13,
   "metadata": {},
   "outputs": [
    {
     "ename": "PermissionError",
     "evalue": "[Errno 13] Permission denied: b'C:\\\\Users\\\\gezas\\\\kDrive\\\\SIE-Project\\\\CL61\\\\Code\\\\Data\\\\saved_on_disk.nc'",
     "output_type": "error",
     "traceback": [
      "\u001b[1;31m---------------------------------------------------------------------------\u001b[0m",
      "\u001b[1;31mKeyError\u001b[0m                                  Traceback (most recent call last)",
      "File \u001b[1;32mc:\\Users\\gezas\\.conda\\envs\\Atm\\Lib\\site-packages\\xarray\\backends\\file_manager.py:211\u001b[0m, in \u001b[0;36mCachingFileManager._acquire_with_cache_info\u001b[1;34m(self, needs_lock)\u001b[0m\n\u001b[0;32m    210\u001b[0m \u001b[39mtry\u001b[39;00m:\n\u001b[1;32m--> 211\u001b[0m     file \u001b[39m=\u001b[39m \u001b[39mself\u001b[39m\u001b[39m.\u001b[39m_cache[\u001b[39mself\u001b[39m\u001b[39m.\u001b[39m_key]\n\u001b[0;32m    212\u001b[0m \u001b[39mexcept\u001b[39;00m \u001b[39mKeyError\u001b[39;00m:\n",
      "File \u001b[1;32mc:\\Users\\gezas\\.conda\\envs\\Atm\\Lib\\site-packages\\xarray\\backends\\lru_cache.py:56\u001b[0m, in \u001b[0;36mLRUCache.__getitem__\u001b[1;34m(self, key)\u001b[0m\n\u001b[0;32m     55\u001b[0m \u001b[39mwith\u001b[39;00m \u001b[39mself\u001b[39m\u001b[39m.\u001b[39m_lock:\n\u001b[1;32m---> 56\u001b[0m     value \u001b[39m=\u001b[39m \u001b[39mself\u001b[39m\u001b[39m.\u001b[39m_cache[key]\n\u001b[0;32m     57\u001b[0m     \u001b[39mself\u001b[39m\u001b[39m.\u001b[39m_cache\u001b[39m.\u001b[39mmove_to_end(key)\n",
      "\u001b[1;31mKeyError\u001b[0m: [<class 'netCDF4._netCDF4.Dataset'>, ('C:\\\\Users\\\\gezas\\\\kDrive\\\\SIE-Project\\\\CL61\\\\Code\\\\Data\\\\saved_on_disk.nc',), 'a', (('clobber', True), ('diskless', False), ('format', 'NETCDF4'), ('persist', False)), '8ee594a5-ec10-488e-a76c-3c6b88733aea']",
      "\nDuring handling of the above exception, another exception occurred:\n",
      "\u001b[1;31mPermissionError\u001b[0m                           Traceback (most recent call last)",
      "\u001b[1;32mc:\\Users\\gezas\\kDrive\\SIE-Project\\CL61\\Code\\Netcdf4FileReading.ipynb Cell 10\u001b[0m line \u001b[0;36m2\n\u001b[0;32m      <a href='vscode-notebook-cell:/c%3A/Users/gezas/kDrive/SIE-Project/CL61/Code/Netcdf4FileReading.ipynb#X16sZmlsZQ%3D%3D?line=0'>1</a>\u001b[0m new_file \u001b[39m=\u001b[39m \u001b[39mstr\u001b[39m(Path(\u001b[39mr\u001b[39m\u001b[39m'\u001b[39m\u001b[39mC:\u001b[39m\u001b[39m\\\u001b[39m\u001b[39mUsers\u001b[39m\u001b[39m\\\u001b[39m\u001b[39mgezas\u001b[39m\u001b[39m\\\u001b[39m\u001b[39mkDrive\u001b[39m\u001b[39m\\\u001b[39m\u001b[39mSIE-Project\u001b[39m\u001b[39m\\\u001b[39m\u001b[39mCL61\u001b[39m\u001b[39m\\\u001b[39m\u001b[39mCode\u001b[39m\u001b[39m\\\u001b[39m\u001b[39mData\u001b[39m\u001b[39m\\\u001b[39m\u001b[39msaved_on_disk.nc\u001b[39m\u001b[39m'\u001b[39m))\n\u001b[1;32m----> <a href='vscode-notebook-cell:/c%3A/Users/gezas/kDrive/SIE-Project/CL61/Code/Netcdf4FileReading.ipynb#X16sZmlsZQ%3D%3D?line=1'>2</a>\u001b[0m dataset\u001b[39m.\u001b[39mto_netcdf(new_file)\n",
      "File \u001b[1;32mc:\\Users\\gezas\\.conda\\envs\\Atm\\Lib\\site-packages\\xarray\\core\\dataset.py:1957\u001b[0m, in \u001b[0;36mDataset.to_netcdf\u001b[1;34m(self, path, mode, format, group, engine, encoding, unlimited_dims, compute, invalid_netcdf)\u001b[0m\n\u001b[0;32m   1954\u001b[0m     encoding \u001b[39m=\u001b[39m {}\n\u001b[0;32m   1955\u001b[0m \u001b[39mfrom\u001b[39;00m \u001b[39mxarray\u001b[39;00m\u001b[39m.\u001b[39;00m\u001b[39mbackends\u001b[39;00m\u001b[39m.\u001b[39;00m\u001b[39mapi\u001b[39;00m \u001b[39mimport\u001b[39;00m to_netcdf\n\u001b[1;32m-> 1957\u001b[0m \u001b[39mreturn\u001b[39;00m to_netcdf(  \u001b[39m# type: ignore  # mypy cannot resolve the overloads:(\u001b[39;00m\n\u001b[0;32m   1958\u001b[0m     \u001b[39mself\u001b[39m,\n\u001b[0;32m   1959\u001b[0m     path,\n\u001b[0;32m   1960\u001b[0m     mode\u001b[39m=\u001b[39mmode,\n\u001b[0;32m   1961\u001b[0m     \u001b[39mformat\u001b[39m\u001b[39m=\u001b[39m\u001b[39mformat\u001b[39m,\n\u001b[0;32m   1962\u001b[0m     group\u001b[39m=\u001b[39mgroup,\n\u001b[0;32m   1963\u001b[0m     engine\u001b[39m=\u001b[39mengine,\n\u001b[0;32m   1964\u001b[0m     encoding\u001b[39m=\u001b[39mencoding,\n\u001b[0;32m   1965\u001b[0m     unlimited_dims\u001b[39m=\u001b[39munlimited_dims,\n\u001b[0;32m   1966\u001b[0m     compute\u001b[39m=\u001b[39mcompute,\n\u001b[0;32m   1967\u001b[0m     multifile\u001b[39m=\u001b[39m\u001b[39mFalse\u001b[39;00m,\n\u001b[0;32m   1968\u001b[0m     invalid_netcdf\u001b[39m=\u001b[39minvalid_netcdf,\n\u001b[0;32m   1969\u001b[0m )\n",
      "File \u001b[1;32mc:\\Users\\gezas\\.conda\\envs\\Atm\\Lib\\site-packages\\xarray\\backends\\api.py:1255\u001b[0m, in \u001b[0;36mto_netcdf\u001b[1;34m(dataset, path_or_file, mode, format, group, engine, encoding, unlimited_dims, compute, multifile, invalid_netcdf)\u001b[0m\n\u001b[0;32m   1251\u001b[0m     \u001b[39melse\u001b[39;00m:\n\u001b[0;32m   1252\u001b[0m         \u001b[39mraise\u001b[39;00m \u001b[39mValueError\u001b[39;00m(\n\u001b[0;32m   1253\u001b[0m             \u001b[39mf\u001b[39m\u001b[39m\"\u001b[39m\u001b[39munrecognized option \u001b[39m\u001b[39m'\u001b[39m\u001b[39minvalid_netcdf\u001b[39m\u001b[39m'\u001b[39m\u001b[39m for engine \u001b[39m\u001b[39m{\u001b[39;00mengine\u001b[39m}\u001b[39;00m\u001b[39m\"\u001b[39m\n\u001b[0;32m   1254\u001b[0m         )\n\u001b[1;32m-> 1255\u001b[0m store \u001b[39m=\u001b[39m store_open(target, mode, \u001b[39mformat\u001b[39m, group, \u001b[39m*\u001b[39m\u001b[39m*\u001b[39mkwargs)\n\u001b[0;32m   1257\u001b[0m \u001b[39mif\u001b[39;00m unlimited_dims \u001b[39mis\u001b[39;00m \u001b[39mNone\u001b[39;00m:\n\u001b[0;32m   1258\u001b[0m     unlimited_dims \u001b[39m=\u001b[39m dataset\u001b[39m.\u001b[39mencoding\u001b[39m.\u001b[39mget(\u001b[39m\"\u001b[39m\u001b[39munlimited_dims\u001b[39m\u001b[39m\"\u001b[39m, \u001b[39mNone\u001b[39;00m)\n",
      "File \u001b[1;32mc:\\Users\\gezas\\.conda\\envs\\Atm\\Lib\\site-packages\\xarray\\backends\\netCDF4_.py:391\u001b[0m, in \u001b[0;36mNetCDF4DataStore.open\u001b[1;34m(cls, filename, mode, format, group, clobber, diskless, persist, lock, lock_maker, autoclose)\u001b[0m\n\u001b[0;32m    385\u001b[0m kwargs \u001b[39m=\u001b[39m \u001b[39mdict\u001b[39m(\n\u001b[0;32m    386\u001b[0m     clobber\u001b[39m=\u001b[39mclobber, diskless\u001b[39m=\u001b[39mdiskless, persist\u001b[39m=\u001b[39mpersist, \u001b[39mformat\u001b[39m\u001b[39m=\u001b[39m\u001b[39mformat\u001b[39m\n\u001b[0;32m    387\u001b[0m )\n\u001b[0;32m    388\u001b[0m manager \u001b[39m=\u001b[39m CachingFileManager(\n\u001b[0;32m    389\u001b[0m     netCDF4\u001b[39m.\u001b[39mDataset, filename, mode\u001b[39m=\u001b[39mmode, kwargs\u001b[39m=\u001b[39mkwargs\n\u001b[0;32m    390\u001b[0m )\n\u001b[1;32m--> 391\u001b[0m \u001b[39mreturn\u001b[39;00m \u001b[39mcls\u001b[39m(manager, group\u001b[39m=\u001b[39mgroup, mode\u001b[39m=\u001b[39mmode, lock\u001b[39m=\u001b[39mlock, autoclose\u001b[39m=\u001b[39mautoclose)\n",
      "File \u001b[1;32mc:\\Users\\gezas\\.conda\\envs\\Atm\\Lib\\site-packages\\xarray\\backends\\netCDF4_.py:338\u001b[0m, in \u001b[0;36mNetCDF4DataStore.__init__\u001b[1;34m(self, manager, group, mode, lock, autoclose)\u001b[0m\n\u001b[0;32m    336\u001b[0m \u001b[39mself\u001b[39m\u001b[39m.\u001b[39m_group \u001b[39m=\u001b[39m group\n\u001b[0;32m    337\u001b[0m \u001b[39mself\u001b[39m\u001b[39m.\u001b[39m_mode \u001b[39m=\u001b[39m mode\n\u001b[1;32m--> 338\u001b[0m \u001b[39mself\u001b[39m\u001b[39m.\u001b[39mformat \u001b[39m=\u001b[39m \u001b[39mself\u001b[39m\u001b[39m.\u001b[39mds\u001b[39m.\u001b[39mdata_model\n\u001b[0;32m    339\u001b[0m \u001b[39mself\u001b[39m\u001b[39m.\u001b[39m_filename \u001b[39m=\u001b[39m \u001b[39mself\u001b[39m\u001b[39m.\u001b[39mds\u001b[39m.\u001b[39mfilepath()\n\u001b[0;32m    340\u001b[0m \u001b[39mself\u001b[39m\u001b[39m.\u001b[39mis_remote \u001b[39m=\u001b[39m is_remote_uri(\u001b[39mself\u001b[39m\u001b[39m.\u001b[39m_filename)\n",
      "File \u001b[1;32mc:\\Users\\gezas\\.conda\\envs\\Atm\\Lib\\site-packages\\xarray\\backends\\netCDF4_.py:400\u001b[0m, in \u001b[0;36mNetCDF4DataStore.ds\u001b[1;34m(self)\u001b[0m\n\u001b[0;32m    398\u001b[0m \u001b[39m@property\u001b[39m\n\u001b[0;32m    399\u001b[0m \u001b[39mdef\u001b[39;00m \u001b[39mds\u001b[39m(\u001b[39mself\u001b[39m):\n\u001b[1;32m--> 400\u001b[0m     \u001b[39mreturn\u001b[39;00m \u001b[39mself\u001b[39m\u001b[39m.\u001b[39m_acquire()\n",
      "File \u001b[1;32mc:\\Users\\gezas\\.conda\\envs\\Atm\\Lib\\site-packages\\xarray\\backends\\netCDF4_.py:394\u001b[0m, in \u001b[0;36mNetCDF4DataStore._acquire\u001b[1;34m(self, needs_lock)\u001b[0m\n\u001b[0;32m    393\u001b[0m \u001b[39mdef\u001b[39;00m \u001b[39m_acquire\u001b[39m(\u001b[39mself\u001b[39m, needs_lock\u001b[39m=\u001b[39m\u001b[39mTrue\u001b[39;00m):\n\u001b[1;32m--> 394\u001b[0m     \u001b[39mwith\u001b[39;00m \u001b[39mself\u001b[39m\u001b[39m.\u001b[39m_manager\u001b[39m.\u001b[39macquire_context(needs_lock) \u001b[39mas\u001b[39;00m root:\n\u001b[0;32m    395\u001b[0m         ds \u001b[39m=\u001b[39m _nc4_require_group(root, \u001b[39mself\u001b[39m\u001b[39m.\u001b[39m_group, \u001b[39mself\u001b[39m\u001b[39m.\u001b[39m_mode)\n\u001b[0;32m    396\u001b[0m     \u001b[39mreturn\u001b[39;00m ds\n",
      "File \u001b[1;32mc:\\Users\\gezas\\.conda\\envs\\Atm\\Lib\\contextlib.py:137\u001b[0m, in \u001b[0;36m_GeneratorContextManager.__enter__\u001b[1;34m(self)\u001b[0m\n\u001b[0;32m    135\u001b[0m \u001b[39mdel\u001b[39;00m \u001b[39mself\u001b[39m\u001b[39m.\u001b[39margs, \u001b[39mself\u001b[39m\u001b[39m.\u001b[39mkwds, \u001b[39mself\u001b[39m\u001b[39m.\u001b[39mfunc\n\u001b[0;32m    136\u001b[0m \u001b[39mtry\u001b[39;00m:\n\u001b[1;32m--> 137\u001b[0m     \u001b[39mreturn\u001b[39;00m \u001b[39mnext\u001b[39m(\u001b[39mself\u001b[39m\u001b[39m.\u001b[39mgen)\n\u001b[0;32m    138\u001b[0m \u001b[39mexcept\u001b[39;00m \u001b[39mStopIteration\u001b[39;00m:\n\u001b[0;32m    139\u001b[0m     \u001b[39mraise\u001b[39;00m \u001b[39mRuntimeError\u001b[39;00m(\u001b[39m\"\u001b[39m\u001b[39mgenerator didn\u001b[39m\u001b[39m'\u001b[39m\u001b[39mt yield\u001b[39m\u001b[39m\"\u001b[39m) \u001b[39mfrom\u001b[39;00m \u001b[39mNone\u001b[39;00m\n",
      "File \u001b[1;32mc:\\Users\\gezas\\.conda\\envs\\Atm\\Lib\\site-packages\\xarray\\backends\\file_manager.py:199\u001b[0m, in \u001b[0;36mCachingFileManager.acquire_context\u001b[1;34m(self, needs_lock)\u001b[0m\n\u001b[0;32m    196\u001b[0m \u001b[39m@contextlib\u001b[39m\u001b[39m.\u001b[39mcontextmanager\n\u001b[0;32m    197\u001b[0m \u001b[39mdef\u001b[39;00m \u001b[39macquire_context\u001b[39m(\u001b[39mself\u001b[39m, needs_lock\u001b[39m=\u001b[39m\u001b[39mTrue\u001b[39;00m):\n\u001b[0;32m    198\u001b[0m \u001b[39m    \u001b[39m\u001b[39m\"\"\"Context manager for acquiring a file.\"\"\"\u001b[39;00m\n\u001b[1;32m--> 199\u001b[0m     file, cached \u001b[39m=\u001b[39m \u001b[39mself\u001b[39m\u001b[39m.\u001b[39m_acquire_with_cache_info(needs_lock)\n\u001b[0;32m    200\u001b[0m     \u001b[39mtry\u001b[39;00m:\n\u001b[0;32m    201\u001b[0m         \u001b[39myield\u001b[39;00m file\n",
      "File \u001b[1;32mc:\\Users\\gezas\\.conda\\envs\\Atm\\Lib\\site-packages\\xarray\\backends\\file_manager.py:217\u001b[0m, in \u001b[0;36mCachingFileManager._acquire_with_cache_info\u001b[1;34m(self, needs_lock)\u001b[0m\n\u001b[0;32m    215\u001b[0m     kwargs \u001b[39m=\u001b[39m kwargs\u001b[39m.\u001b[39mcopy()\n\u001b[0;32m    216\u001b[0m     kwargs[\u001b[39m\"\u001b[39m\u001b[39mmode\u001b[39m\u001b[39m\"\u001b[39m] \u001b[39m=\u001b[39m \u001b[39mself\u001b[39m\u001b[39m.\u001b[39m_mode\n\u001b[1;32m--> 217\u001b[0m file \u001b[39m=\u001b[39m \u001b[39mself\u001b[39m\u001b[39m.\u001b[39m_opener(\u001b[39m*\u001b[39m\u001b[39mself\u001b[39m\u001b[39m.\u001b[39m_args, \u001b[39m*\u001b[39m\u001b[39m*\u001b[39mkwargs)\n\u001b[0;32m    218\u001b[0m \u001b[39mif\u001b[39;00m \u001b[39mself\u001b[39m\u001b[39m.\u001b[39m_mode \u001b[39m==\u001b[39m \u001b[39m\"\u001b[39m\u001b[39mw\u001b[39m\u001b[39m\"\u001b[39m:\n\u001b[0;32m    219\u001b[0m     \u001b[39m# ensure file doesn't get overridden when opened again\u001b[39;00m\n\u001b[0;32m    220\u001b[0m     \u001b[39mself\u001b[39m\u001b[39m.\u001b[39m_mode \u001b[39m=\u001b[39m \u001b[39m\"\u001b[39m\u001b[39ma\u001b[39m\u001b[39m\"\u001b[39m\n",
      "File \u001b[1;32msrc\\netCDF4\\_netCDF4.pyx:2463\u001b[0m, in \u001b[0;36mnetCDF4._netCDF4.Dataset.__init__\u001b[1;34m()\u001b[0m\n",
      "File \u001b[1;32msrc\\netCDF4\\_netCDF4.pyx:2026\u001b[0m, in \u001b[0;36mnetCDF4._netCDF4._ensure_nc_success\u001b[1;34m()\u001b[0m\n",
      "\u001b[1;31mPermissionError\u001b[0m: [Errno 13] Permission denied: b'C:\\\\Users\\\\gezas\\\\kDrive\\\\SIE-Project\\\\CL61\\\\Code\\\\Data\\\\saved_on_disk.nc'"
     ]
    }
   ],
   "source": [
    "new_file = str(Path(r'C:\\Users\\gezas\\kDrive\\SIE-Project\\CL61\\Code\\Data\\saved_on_disk.nc'))\n",
    "dataset.to_netcdf(new_file)"
   ]
  },
  {
   "cell_type": "code",
   "execution_count": null,
   "metadata": {},
   "outputs": [],
   "source": [
    "dataset['time'].values"
   ]
  },
  {
   "cell_type": "code",
   "execution_count": null,
   "metadata": {},
   "outputs": [],
   "source": [
    "f2plot.plotCL61AsColomersh(dataset, hlims=[0, 5000], color_map=COLOR_MAP)"
   ]
  },
  {
   "cell_type": "code",
   "execution_count": null,
   "metadata": {},
   "outputs": [],
   "source": [
    "ds.to_netcdf(\"saved_on_disk.nc\")"
   ]
  }
 ],
 "metadata": {
  "kernelspec": {
   "display_name": "Atm",
   "language": "python",
   "name": "python3"
  },
  "language_info": {
   "codemirror_mode": {
    "name": "ipython",
    "version": 3
   },
   "file_extension": ".py",
   "mimetype": "text/x-python",
   "name": "python",
   "nbconvert_exporter": "python",
   "pygments_lexer": "ipython3",
   "version": "3.11.5"
  }
 },
 "nbformat": 4,
 "nbformat_minor": 2
}
