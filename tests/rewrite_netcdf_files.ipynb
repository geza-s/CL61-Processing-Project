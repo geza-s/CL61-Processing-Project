{
 "cells": [
  {
   "cell_type": "code",
   "execution_count": 2,
   "metadata": {
    "collapsed": false
   },
   "outputs": [],
   "source": [
    "# system management\n",
    "import glob\n",
    "import os\n",
    "import importlib\n",
    "\n",
    "# Array\n",
    "import xarray as xr\n",
    "import dask\n",
    "import numpy as np\n",
    "import pandas as pd\n",
    "\n",
    "# See time evolution\n",
    "from tqdm import tqdm"
   ]
  },
  {
   "cell_type": "markdown",
   "metadata": {},
   "source": [
    "# Define daily "
   ]
  },
  {
   "cell_type": "code",
   "execution_count": 3,
   "metadata": {
    "collapsed": false
   },
   "outputs": [],
   "source": [
    "data_folder = r\"C:\\Users\\gezas\\kDrive\\SIE-Project\\CL61\\Cl61_module\\temp\"\n",
    "output_folder = r'C:\\Users\\gezas\\kDrive\\SIE-Project\\CL61\\Data_daily'"
   ]
  },
  {
   "cell_type": "code",
   "execution_count": 22,
   "metadata": {},
   "outputs": [
    {
     "data": {
      "text/html": [
       "<div>\n",
       "<style scoped>\n",
       "    .dataframe tbody tr th:only-of-type {\n",
       "        vertical-align: middle;\n",
       "    }\n",
       "\n",
       "    .dataframe tbody tr th {\n",
       "        vertical-align: top;\n",
       "    }\n",
       "\n",
       "    .dataframe thead th {\n",
       "        text-align: right;\n",
       "    }\n",
       "</style>\n",
       "<table border=\"1\" class=\"dataframe\">\n",
       "  <thead>\n",
       "    <tr style=\"text-align: right;\">\n",
       "      <th></th>\n",
       "      <th>file_path</th>\n",
       "      <th>filename</th>\n",
       "      <th>timestamp</th>\n",
       "    </tr>\n",
       "    <tr>\n",
       "      <th>timestamp</th>\n",
       "      <th></th>\n",
       "      <th></th>\n",
       "      <th></th>\n",
       "    </tr>\n",
       "  </thead>\n",
       "  <tbody>\n",
       "    <tr>\n",
       "      <th>2023-02-22 00:04:10</th>\n",
       "      <td>C:\\Users\\gezas\\kDrive\\SIE-Project\\CL61\\Cl61_mo...</td>\n",
       "      <td>live_20230222_000410.nc</td>\n",
       "      <td>20230222_000410</td>\n",
       "    </tr>\n",
       "    <tr>\n",
       "      <th>2023-02-22 00:09:10</th>\n",
       "      <td>C:\\Users\\gezas\\kDrive\\SIE-Project\\CL61\\Cl61_mo...</td>\n",
       "      <td>live_20230222_000910.nc</td>\n",
       "      <td>20230222_000910</td>\n",
       "    </tr>\n",
       "    <tr>\n",
       "      <th>2023-02-22 00:14:10</th>\n",
       "      <td>C:\\Users\\gezas\\kDrive\\SIE-Project\\CL61\\Cl61_mo...</td>\n",
       "      <td>live_20230222_001410.nc</td>\n",
       "      <td>20230222_001410</td>\n",
       "    </tr>\n",
       "    <tr>\n",
       "      <th>2023-02-22 00:19:10</th>\n",
       "      <td>C:\\Users\\gezas\\kDrive\\SIE-Project\\CL61\\Cl61_mo...</td>\n",
       "      <td>live_20230222_001910.nc</td>\n",
       "      <td>20230222_001910</td>\n",
       "    </tr>\n",
       "    <tr>\n",
       "      <th>2023-02-22 00:24:11</th>\n",
       "      <td>C:\\Users\\gezas\\kDrive\\SIE-Project\\CL61\\Cl61_mo...</td>\n",
       "      <td>live_20230222_002411.nc</td>\n",
       "      <td>20230222_002411</td>\n",
       "    </tr>\n",
       "  </tbody>\n",
       "</table>\n",
       "</div>"
      ],
      "text/plain": [
       "                                                             file_path  \\\n",
       "timestamp                                                                \n",
       "2023-02-22 00:04:10  C:\\Users\\gezas\\kDrive\\SIE-Project\\CL61\\Cl61_mo...   \n",
       "2023-02-22 00:09:10  C:\\Users\\gezas\\kDrive\\SIE-Project\\CL61\\Cl61_mo...   \n",
       "2023-02-22 00:14:10  C:\\Users\\gezas\\kDrive\\SIE-Project\\CL61\\Cl61_mo...   \n",
       "2023-02-22 00:19:10  C:\\Users\\gezas\\kDrive\\SIE-Project\\CL61\\Cl61_mo...   \n",
       "2023-02-22 00:24:11  C:\\Users\\gezas\\kDrive\\SIE-Project\\CL61\\Cl61_mo...   \n",
       "\n",
       "                                    filename        timestamp  \n",
       "timestamp                                                      \n",
       "2023-02-22 00:04:10  live_20230222_000410.nc  20230222_000410  \n",
       "2023-02-22 00:09:10  live_20230222_000910.nc  20230222_000910  \n",
       "2023-02-22 00:14:10  live_20230222_001410.nc  20230222_001410  \n",
       "2023-02-22 00:19:10  live_20230222_001910.nc  20230222_001910  \n",
       "2023-02-22 00:24:11  live_20230222_002411.nc  20230222_002411  "
      ]
     },
     "execution_count": 22,
     "metadata": {},
     "output_type": "execute_result"
    }
   ],
   "source": [
    "# Get info on all files in folder and store it into pandas dataframe\n",
    "filepaths = glob.glob(os.path.join(data_folder, '*.nc'))\n",
    "filenames = [fname for fname in os.listdir(data_folder) if fname.endswith(\".nc\")]\n",
    "\n",
    "df_data_files = pd.DataFrame({'file_path': filepaths, 'filename':filenames})\n",
    "df_data_files['timestamp'] = df_data_files['filename'].str.extract(r'^live_(\\d+_\\d*)\\.nc$')\n",
    "df_data_files = df_data_files.set_index(pd.to_datetime(df_data_files['timestamp'], format='%Y%m%d_%H%M%S'))\n",
    "df_data_files.sort_index(inplace=True)\n",
    "df_data_files.head(5)"
   ]
  },
  {
   "cell_type": "code",
   "execution_count": 38,
   "metadata": {
    "collapsed": false
   },
   "outputs": [],
   "source": [
    "first_date = \"2023-02-22 00:00:00\"\n",
    "last_date = \"2023-02-23 23:59:00\""
   ]
  },
  {
   "cell_type": "code",
   "execution_count": 60,
   "metadata": {
    "collapsed": false
   },
   "outputs": [
    {
     "data": {
      "text/plain": [
       "DatetimeIndex(['2023-02-22', '2023-02-23'], dtype='datetime64[ns]', freq='D')"
      ]
     },
     "execution_count": 60,
     "metadata": {},
     "output_type": "execute_result"
    }
   ],
   "source": [
    "selected_dates = pd.date_range(first_date, last_date, freq='D')\n",
    "selected_dates"
   ]
  },
  {
   "cell_type": "markdown",
   "metadata": {},
   "source": [
    "# Combine data into daily datasets"
   ]
  },
  {
   "cell_type": "code",
   "execution_count": 40,
   "metadata": {},
   "outputs": [
    {
     "name": "stdout",
     "output_type": "stream",
     "text": [
      "2023-02-22\n",
      "                                                             file_path  \\\n",
      "timestamp                                                                \n",
      "2023-02-22 00:04:10  C:\\Users\\gezas\\kDrive\\SIE-Project\\CL61\\Cl61_mo...   \n",
      "2023-02-22 00:09:10  C:\\Users\\gezas\\kDrive\\SIE-Project\\CL61\\Cl61_mo...   \n",
      "2023-02-22 00:14:10  C:\\Users\\gezas\\kDrive\\SIE-Project\\CL61\\Cl61_mo...   \n",
      "2023-02-22 00:19:10  C:\\Users\\gezas\\kDrive\\SIE-Project\\CL61\\Cl61_mo...   \n",
      "2023-02-22 00:24:11  C:\\Users\\gezas\\kDrive\\SIE-Project\\CL61\\Cl61_mo...   \n",
      "...                                                                ...   \n",
      "2023-02-22 23:35:11  C:\\Users\\gezas\\kDrive\\SIE-Project\\CL61\\Cl61_mo...   \n",
      "2023-02-22 23:40:11  C:\\Users\\gezas\\kDrive\\SIE-Project\\CL61\\Cl61_mo...   \n",
      "2023-02-22 23:45:11  C:\\Users\\gezas\\kDrive\\SIE-Project\\CL61\\Cl61_mo...   \n",
      "2023-02-22 23:50:11  C:\\Users\\gezas\\kDrive\\SIE-Project\\CL61\\Cl61_mo...   \n",
      "2023-02-22 23:55:11  C:\\Users\\gezas\\kDrive\\SIE-Project\\CL61\\Cl61_mo...   \n",
      "\n",
      "                                    filename        timestamp  \n",
      "timestamp                                                      \n",
      "2023-02-22 00:04:10  live_20230222_000410.nc  20230222_000410  \n",
      "2023-02-22 00:09:10  live_20230222_000910.nc  20230222_000910  \n",
      "2023-02-22 00:14:10  live_20230222_001410.nc  20230222_001410  \n",
      "2023-02-22 00:19:10  live_20230222_001910.nc  20230222_001910  \n",
      "2023-02-22 00:24:11  live_20230222_002411.nc  20230222_002411  \n",
      "...                                      ...              ...  \n",
      "2023-02-22 23:35:11  live_20230222_233511.nc  20230222_233511  \n",
      "2023-02-22 23:40:11  live_20230222_234011.nc  20230222_234011  \n",
      "2023-02-22 23:45:11  live_20230222_234511.nc  20230222_234511  \n",
      "2023-02-22 23:50:11  live_20230222_235011.nc  20230222_235011  \n",
      "2023-02-22 23:55:11  live_20230222_235511.nc  20230222_235511  \n",
      "\n",
      "[287 rows x 3 columns]\n"
     ]
    },
    {
     "name": "stderr",
     "output_type": "stream",
     "text": [
      "  0%|          | 0/287 [00:00<?, ?it/s]"
     ]
    },
    {
     "name": "stderr",
     "output_type": "stream",
     "text": [
      "100%|██████████| 287/287 [00:30<00:00,  9.42it/s]\n"
     ]
    }
   ],
   "source": [
    "for selected_date in selected_dates:\n",
    "    # check date validity\n",
    "    if selected_date.date() not in df_data_files.index.date:\n",
    "        print(f\"Date {selected_date} not found in data files..\")\n",
    "        continue\n",
    "\n",
    "    # Get rows with corresponding date\n",
    "    day_timestamp = selected_date.strftime('%Y-%m-%d')\n",
    "    print(day_timestamp)\n",
    "    selected_rows = df_data_files.loc[day_timestamp]\n",
    "\n",
    "    #Initialize dataset to store all daily data\n",
    "    combined_dataset = None # type: xr.Dataset\n",
    "\n",
    "    # Open and combine all dataset of the day\n",
    "    for row in tqdm(selected_rows.iterrows(), total=selected_rows.shape[0]):\n",
    "        # Open the dataset for the selected date\n",
    "        row_array = xr.open_dataset(row[1]['file_path'], chunks='auto')\n",
    "        # Combine the datasets\n",
    "        if combined_dataset is None:\n",
    "            combined_dataset = row_array\n",
    "        else:\n",
    "            combined_dataset = xr.concat([combined_dataset, row_array], dim='time')\n",
    "\n",
    "    # Define the output filename\n",
    "    output_filename = f\"cl61_{day_timestamp}.nc\"\n",
    "\n",
    "    # Define the output file path\n",
    "    output_filepath = os.path.join(output_folder, output_filename)\n",
    "    print(f\"Day : {day_timestamp} --> writing to : {output_filepath}\")\n",
    "\n",
    "    combined_dataset.to_netcdf(output_filepath)\n"
   ]
  }
 ],
 "metadata": {
  "kernelspec": {
   "display_name": "Python 3",
   "language": "python",
   "name": "python3"
  },
  "language_info": {
   "codemirror_mode": {
    "name": "ipython",
    "version": 3
   },
   "file_extension": ".py",
   "mimetype": "text/x-python",
   "name": "python",
   "nbconvert_exporter": "python",
   "pygments_lexer": "ipython3",
   "version": "3.11.5"
  }
 },
 "nbformat": 4,
 "nbformat_minor": 0
}
